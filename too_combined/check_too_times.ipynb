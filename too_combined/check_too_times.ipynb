{
 "cells": [
  {
   "cell_type": "code",
   "execution_count": 1,
   "id": "87add8a3-5732-4e4d-81ab-02d941fbcbf1",
   "metadata": {},
   "outputs": [],
   "source": [
    "import numpy as np\n",
    "import pandas as pd\n",
    "import matplotlib.pylab as plt\n",
    "%matplotlib inline\n",
    "import os\n",
    "import sqlite3\n",
    "import glob"
   ]
  },
  {
   "cell_type": "code",
   "execution_count": 2,
   "id": "7e3e499c-99b0-4dcb-a397-c3a5179c5a2c",
   "metadata": {},
   "outputs": [],
   "source": [
    "run_files = glob.glob('*10yrs.db')\n",
    "run_files.sort()"
   ]
  },
  {
   "cell_type": "code",
   "execution_count": 3,
   "id": "ff408875-b67f-4777-9d1d-03b73e0f489e",
   "metadata": {},
   "outputs": [],
   "source": [
    "results ={\"sum_time\": [], \"too_time\":[]}\n",
    "for run in run_files:\n",
    "    con = sqlite3.connect(run)\n",
    "    df1 = pd.read_sql('select sum(visitExposureTime) from observations;', con)\n",
    "    df2 = pd.read_sql(\"select sum(visitExposureTime) from observations where note like 'ToO%';\", con)\n",
    "    con.close()\n",
    "    results[\"sum_time\"].append(df1.values)\n",
    "    if df2.values[0][0] is not None:\n",
    "        results[\"too_time\"].append(df2.values)\n",
    "    else:\n",
    "        results[\"too_time\"].append(np.array([[0.]]))\n"
   ]
  },
  {
   "cell_type": "code",
   "execution_count": 4,
   "id": "7a8092a2-edf7-4382-b9b2-8982ad4c778a",
   "metadata": {},
   "outputs": [],
   "source": [
    "sum_time = np.concatenate(results[\"sum_time\"])\n",
    "too_time = np.concatenate(results[\"too_time\"])"
   ]
  },
  {
   "cell_type": "code",
   "execution_count": 5,
   "id": "947e0892-26dc-45c6-bc5b-f644b5905b49",
   "metadata": {},
   "outputs": [
    {
     "data": {
      "text/plain": [
       "array([[0.        ],\n",
       "       [0.0148614 ],\n",
       "       [0.01546182],\n",
       "       [0.01533684],\n",
       "       [0.01598943],\n",
       "       [0.01854901],\n",
       "       [0.02221672]])"
      ]
     },
     "execution_count": 5,
     "metadata": {},
     "output_type": "execute_result"
    }
   ],
   "source": [
    "too_time/sum_time"
   ]
  },
  {
   "cell_type": "code",
   "execution_count": null,
   "id": "71155e8d-1fa4-4022-9120-b9a8a5858c03",
   "metadata": {},
   "outputs": [],
   "source": []
  },
  {
   "cell_type": "code",
   "execution_count": null,
   "id": "870bb787-556e-4499-8043-fadba358a12f",
   "metadata": {},
   "outputs": [],
   "source": []
  },
  {
   "cell_type": "code",
   "execution_count": 6,
   "id": "d6f2e2f2-f7e1-4fe0-b0c9-13df6766c11b",
   "metadata": {},
   "outputs": [],
   "source": [
    "results ={\"sum_n\": [], \"too_n\":[]}\n",
    "for run in run_files:\n",
    "    con = sqlite3.connect(run)\n",
    "    df1 = pd.read_sql('select count(night) from observations;', con)\n",
    "    df2 = pd.read_sql(\"select count(night) from observations where note like 'ToO%';\", con)\n",
    "    con.close()\n",
    "    results[\"sum_n\"].append(df1.values)\n",
    "    if df2.values[0][0] is not None:\n",
    "        results[\"too_n\"].append(df2.values)\n",
    "    else:\n",
    "        results[\"too_n\"].append(np.array([[0.]]))\n"
   ]
  },
  {
   "cell_type": "code",
   "execution_count": 7,
   "id": "14238bc5-e8c2-404b-96e7-db05e3600711",
   "metadata": {},
   "outputs": [],
   "source": [
    "sum_n = np.concatenate(results[\"sum_n\"])\n",
    "too_n = np.concatenate(results[\"too_n\"])"
   ]
  },
  {
   "cell_type": "code",
   "execution_count": 8,
   "id": "b95c4853-53dd-4258-b8ac-ca316a6026e5",
   "metadata": {},
   "outputs": [
    {
     "data": {
      "text/plain": [
       "array([[0.        ],\n",
       "       [0.0059068 ],\n",
       "       [0.00620054],\n",
       "       [0.00610078],\n",
       "       [0.00626354],\n",
       "       [0.00690507],\n",
       "       [0.00769065]])"
      ]
     },
     "execution_count": 8,
     "metadata": {},
     "output_type": "execute_result"
    }
   ],
   "source": [
    "too_n/sum_n"
   ]
  },
  {
   "cell_type": "code",
   "execution_count": null,
   "id": "131d950a-92e3-4be6-b615-3b5f58c66b60",
   "metadata": {},
   "outputs": [],
   "source": []
  }
 ],
 "metadata": {
  "kernelspec": {
   "display_name": "Python 3 (ipykernel)",
   "language": "python",
   "name": "python3"
  },
  "language_info": {
   "codemirror_mode": {
    "name": "ipython",
    "version": 3
   },
   "file_extension": ".py",
   "mimetype": "text/x-python",
   "name": "python",
   "nbconvert_exporter": "python",
   "pygments_lexer": "ipython3",
   "version": "3.11.8"
  }
 },
 "nbformat": 4,
 "nbformat_minor": 5
}
